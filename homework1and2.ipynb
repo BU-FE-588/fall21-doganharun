{
 "cells": [
  {
   "cell_type": "markdown",
   "metadata": {},
   "source": [
    "# Homework 1 and 2 due November 23$^{th}$, 2021\n",
    "\n",
    "The aim of this homework is to practive the concepts of basic data structures, control flows and loops in Python. You are expected to use GitHub Classroom and present your work as an html file (i.e. web page) on your progress journals. You can use this jupyter notebook as template to provide your answers."
   ]
  },
  {
   "cell_type": "markdown",
   "metadata": {},
   "source": [
    "## Task 1\n",
    "Implement a Python program to input two numbers and perform all arithmetic operations. You are expected to find the sum, difference, product, quotient and remainder of two given numbers."
   ]
  },
  {
   "cell_type": "code",
   "execution_count": 23,
   "metadata": {},
   "outputs": [
    {
     "name": "stdout",
     "output_type": "stream",
     "text": [
      "Sum 24\n",
      "Difference 12\n",
      "Product 108\n",
      "Quotient 3.0\n",
      "Remainder 0\n"
     ]
    }
   ],
   "source": [
    "def variables_q1 (x, y):\n",
    "    print(\"Sum\", x + y)\n",
    "    print(\"Difference\", x - y)\n",
    "    print(\"Product\", x * y)\n",
    "    print(\"Quotient\", x / y)\n",
    "    print(\"Remainder\", x % y)\n",
    "\n",
    "variables_q1 (18, 6)\n",
    "    \n",
    "    \n",
    "    "
   ]
  },
  {
   "cell_type": "markdown",
   "metadata": {},
   "source": [
    "## Task 2\n",
    "Implement a Python program to input length and width of a rectangle and find area of the given rectangle. "
   ]
  },
  {
   "cell_type": "code",
   "execution_count": 25,
   "metadata": {},
   "outputs": [
    {
     "data": {
      "text/plain": [
       "161"
      ]
     },
     "execution_count": 25,
     "metadata": {},
     "output_type": "execute_result"
    }
   ],
   "source": [
    "def area(width:float,length:float):\n",
    "    return(width*length)\n",
    "area(23,7)"
   ]
  },
  {
   "cell_type": "markdown",
   "metadata": {},
   "source": [
    "## Task 3\n",
    "Implement a Python program to input any decimal number from user and convert it to binary number system (i.e. base-2 number system)"
   ]
  },
  {
   "cell_type": "code",
   "execution_count": 30,
   "metadata": {},
   "outputs": [
    {
     "name": "stdout",
     "output_type": "stream",
     "text": [
      "binary of 17 is 10001\n"
     ]
    }
   ],
   "source": [
    "def bin_conversion (n):\n",
    "    print(\"binary of\", n, \"is\", bin(n).replace(\"0b\", \"\"))\n",
    "    \n",
    "bin_conversion(17)\n"
   ]
  },
  {
   "cell_type": "code",
   "execution_count": 31,
   "metadata": {},
   "outputs": [
    {
     "name": "stdout",
     "output_type": "stream",
     "text": [
      "binary of 23 is 10111\n"
     ]
    }
   ],
   "source": [
    "bin_conversion(23)"
   ]
  },
  {
   "cell_type": "markdown",
   "metadata": {},
   "source": [
    "## Task 4\n",
    "Implement a Python program to input a number and check whether number is even or odd using if/else statements.\n",
    "\n",
    "Example:\n",
    "Input <br>\n",
    "Input num: 25 <br>\n",
    "Output <br>\n",
    "25 is odd."
   ]
  },
  {
   "cell_type": "code",
   "execution_count": 32,
   "metadata": {},
   "outputs": [
    {
     "name": "stdout",
     "output_type": "stream",
     "text": [
      "21 is odd number.\n"
     ]
    }
   ],
   "source": [
    "def even_or_odd (n):\n",
    "    if (n % 2 == 0):\n",
    "        print(n, \"is even number.\")\n",
    "    else:\n",
    "        print(n, \"is odd number.\")\n",
    "        \n",
    "even_or_odd(21)"
   ]
  },
  {
   "cell_type": "code",
   "execution_count": 33,
   "metadata": {},
   "outputs": [
    {
     "name": "stdout",
     "output_type": "stream",
     "text": [
      "12 is even number.\n"
     ]
    }
   ],
   "source": [
    "even_or_odd(12)"
   ]
  },
  {
   "cell_type": "markdown",
   "metadata": {},
   "source": [
    "## Task 5\n",
    "Implement a Python program to check if input year is a leap year using if/else statements."
   ]
  },
  {
   "cell_type": "code",
   "execution_count": 36,
   "metadata": {},
   "outputs": [
    {
     "name": "stdout",
     "output_type": "stream",
     "text": [
      "1994 is not a leap year.\n"
     ]
    }
   ],
   "source": [
    "def leap_year (n):\n",
    "    if (n % 400 == 0):\n",
    "        print(n, \"is a leap year.\")\n",
    "    elif ((n % 4 == 0) and (n % 100 != 0)):\n",
    "        print(n, \"is a leap year.\")\n",
    "    else:\n",
    "        print(n, \"is not a leap year.\")\n",
    "        \n",
    "leap_year (1994)"
   ]
  },
  {
   "cell_type": "code",
   "execution_count": 37,
   "metadata": {},
   "outputs": [
    {
     "name": "stdout",
     "output_type": "stream",
     "text": [
      "1961 is not a leap year.\n"
     ]
    }
   ],
   "source": [
    "leap_year (1961)"
   ]
  },
  {
   "cell_type": "code",
   "execution_count": 38,
   "metadata": {},
   "outputs": [
    {
     "name": "stdout",
     "output_type": "stream",
     "text": [
      "1983 is not a leap year.\n"
     ]
    }
   ],
   "source": [
    "leap_year (1983)"
   ]
  },
  {
   "cell_type": "code",
   "execution_count": 42,
   "metadata": {},
   "outputs": [
    {
     "name": "stdout",
     "output_type": "stream",
     "text": [
      "1940 is a leap year.\n"
     ]
    }
   ],
   "source": [
    "leap_year(1940)"
   ]
  },
  {
   "cell_type": "markdown",
   "metadata": {},
   "source": [
    "## Task 6\n",
    "Implement a Python program to print all natural numbers from 1 to n using loop."
   ]
  },
  {
   "cell_type": "code",
   "execution_count": 43,
   "metadata": {},
   "outputs": [
    {
     "name": "stdout",
     "output_type": "stream",
     "text": [
      "1\n",
      "2\n",
      "3\n",
      "4\n",
      "5\n",
      "6\n",
      "7\n",
      "8\n",
      "9\n",
      "10\n",
      "11\n",
      "12\n",
      "13\n",
      "14\n",
      "15\n",
      "16\n",
      "17\n",
      "18\n",
      "19\n",
      "20\n",
      "21\n",
      "22\n",
      "23\n",
      "24\n",
      "25\n",
      "26\n",
      "27\n"
     ]
    }
   ],
   "source": [
    "def natural_numbers (n):\n",
    "    for i in range(1, n + 1):\n",
    "        print(i)\n",
    "        \n",
    "natural_numbers(27)"
   ]
  },
  {
   "cell_type": "markdown",
   "metadata": {},
   "source": [
    "## Task 7\n",
    "Implement a Python program to input a number from user and swap first and last digit of the given number. This task is easy to perform when input is transformed to a string. However, the aim here is to make use of mathematical operations to perform the swapping operation. One way to perform this task is to divide the input number by 10 until you are left with the first digit. The remainder from the first division is the last digit. Note that there are alternative approaches to perform the same task."
   ]
  },
  {
   "cell_type": "code",
   "execution_count": null,
   "metadata": {},
   "outputs": [],
   "source": [
    "def swap(x:int):\n",
    "    number=x\n",
    "    count=0\n",
    "    last=x%10\n",
    "    while (x>= 10):\n",
    "        x=(x//10)\n",
    "        count=count+1\n",
    "        first=x\n",
    "    print(number-(first-last)*10**count+(first-last)"
   ]
  },
  {
   "cell_type": "markdown",
   "metadata": {},
   "source": [
    "## Task 8\n",
    "Implement a Python program to input any number from user and find cube of the given number using function. "
   ]
  },
  {
   "cell_type": "code",
   "execution_count": 45,
   "metadata": {},
   "outputs": [
    {
     "name": "stdout",
     "output_type": "stream",
     "text": [
      "27\n"
     ]
    }
   ],
   "source": [
    "def cube_function (n):\n",
    "    print(n ** 3)\n",
    "    \n",
    "cube_function(3)"
   ]
  },
  {
   "cell_type": "markdown",
   "metadata": {},
   "source": [
    "## Task 9\n",
    "Write a function to find prime numbers between two integers (i.e. lower and upper bound). Note that you need to control if provided bounds are positive (at least upper bound should be some positive number) and upper bound is larger than provided lower bound."
   ]
  },
  {
   "cell_type": "code",
   "execution_count": 49,
   "metadata": {},
   "outputs": [
    {
     "name": "stdout",
     "output_type": "stream",
     "text": [
      "5\n",
      "7\n",
      "11\n",
      "13\n",
      "17\n"
     ]
    }
   ],
   "source": [
    "def bounds (lower, upper):\n",
    "    if upper > 0 and lower >= 0 and upper > lower:\n",
    "        for prime_number in range (lower, upper + 1):\n",
    "            if prime_number > 2:\n",
    "                for i in range (2, prime_number):\n",
    "                    if prime_number % i == 0:\n",
    "                        break\n",
    "                    elif i == prime_number - 1:\n",
    "                        print(prime_number)\n",
    "\n",
    "        \n",
    "                    \n",
    "bounds (4, 17)"
   ]
  },
  {
   "cell_type": "markdown",
   "metadata": {},
   "source": [
    "## Task 10\n",
    "Implement a Python program that takes a list with numerical elements and find the sum of list elements."
   ]
  },
  {
   "cell_type": "code",
   "execution_count": 50,
   "metadata": {},
   "outputs": [
    {
     "name": "stdout",
     "output_type": "stream",
     "text": [
      "Sum of the elements in Listofnumbers is 28\n"
     ]
    }
   ],
   "source": [
    "listofnumbers = [1, 2, 3, 4, 5, 6, 7]\n",
    "print(\"Sum of the elements in Listofnumbers is\", sum(listofnumbers))"
   ]
  },
  {
   "cell_type": "markdown",
   "metadata": {},
   "source": [
    "## Task 11\n",
    "Implement a Python program that takes an integer list and find frequency of each element in list. There are built-in functions to perform this task in Python however you are expected perform this task using loops. Example:\n",
    "\n",
    "\n",
    "Input\n",
    "Input array elements: 4, 9, 9, 5, 100, 1, 2, 1, 2\n",
    "\n",
    "Output <br>\n",
    "Frequency of 4 = 1  <br>\n",
    "Frequency of 9 = 2  <br>\n",
    "Frequency of 5 = 1  <br>\n",
    "Frequency of 100 = 1  <br>\n",
    "Frequency of 1 = 2  <br>\n",
    "Frequency of 2 = 2  <br>"
   ]
  },
  {
   "cell_type": "code",
   "execution_count": 52,
   "metadata": {},
   "outputs": [
    {
     "name": "stdout",
     "output_type": "stream",
     "text": [
      "Frequency of 4 = 1\n",
      "Frequency of 9 = 2\n",
      "Frequency of 5 = 1\n",
      "Frequency of 100 = 1\n",
      "Frequency of 1 = 2\n",
      "Frequency of 2 = 2\n"
     ]
    }
   ],
   "source": [
    "def frequency(listoflist:list):\n",
    "    result = {}\n",
    "    for element in listoflist:\n",
    "        if element in result:\n",
    "            result[element] += 1\n",
    "        else:\n",
    "            result[element] = 1\n",
    "    for element in result:\n",
    "        print(f\"Frequency of {element} = {result[element]}\")\n",
    "            \n",
    "frequency([4, 9, 9, 5, 100, 1, 2, 1, 2])\n",
    "        "
   ]
  },
  {
   "cell_type": "markdown",
   "metadata": {},
   "source": [
    "## Task 12\n",
    "Implement a Python program that reads the side (side sizes between 1 and 5 ) of a square and prints square using hash (#) character.\n",
    "\n",
    "Input: 5\n",
    "Sample Output: <br>\n",
    "Input the size of the square:  <br>\n",
    " $ # # # # # $ <br>\n",
    " $ # # # # # $ <br>\n",
    " $ # # # # # $ <br>\n",
    " $ # # # # # $ <br>\n",
    " $ # # # # # $ <br>"
   ]
  },
  {
   "cell_type": "code",
   "execution_count": 61,
   "metadata": {},
   "outputs": [],
   "source": [
    "def square(y:int):\n",
    "     for i in range(0,y):\n",
    "         for k in range (0,y):\n",
    "             print(\"#\", end=\" \")\n",
    "         print()\n",
    "        "
   ]
  },
  {
   "cell_type": "code",
   "execution_count": 62,
   "metadata": {},
   "outputs": [
    {
     "name": "stdout",
     "output_type": "stream",
     "text": [
      "# # # # # \n",
      "# # # # # \n",
      "# # # # # \n",
      "# # # # # \n",
      "# # # # # \n"
     ]
    }
   ],
   "source": [
    "square(5)"
   ]
  },
  {
   "cell_type": "code",
   "execution_count": 60,
   "metadata": {},
   "outputs": [
    {
     "name": "stdout",
     "output_type": "stream",
     "text": [
      "# # # # # # # # \n",
      "# # # # # # # # \n",
      "# # # # # # # # \n",
      "# # # # # # # # \n",
      "# # # # # # # # \n",
      "# # # # # # # # \n",
      "# # # # # # # # \n",
      "# # # # # # # # \n"
     ]
    }
   ],
   "source": [
    "square(8)"
   ]
  },
  {
   "cell_type": "code",
   "execution_count": null,
   "metadata": {},
   "outputs": [],
   "source": []
  }
 ],
 "metadata": {
  "kernelspec": {
   "display_name": "Python 3 (ipykernel)",
   "language": "python",
   "name": "python3"
  },
  "language_info": {
   "codemirror_mode": {
    "name": "ipython",
    "version": 3
   },
   "file_extension": ".py",
   "mimetype": "text/x-python",
   "name": "python",
   "nbconvert_exporter": "python",
   "pygments_lexer": "ipython3",
   "version": "3.9.7"
  }
 },
 "nbformat": 4,
 "nbformat_minor": 2
}
